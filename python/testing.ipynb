{
 "cells": [
  {
   "cell_type": "code",
   "execution_count": 21,
   "id": "e70dbde5",
   "metadata": {},
   "outputs": [
    {
     "name": "stdout",
     "output_type": "stream",
     "text": [
      "🔹 Scaler Parameters\n",
      "----------------------------------------\n",
      "Mean:     [ 25.58584663 174.91748833  75.29169743   1.11081702   2.94525319\n",
      "   2.36121752  52.20143484  55.22163405  47.12892666  58.23424114\n",
      "  61.89454621  55.86940169  49.87239674  58.7396392   64.71821411\n",
      "  47.71765689  51.38512224  46.8789789   64.09978408 381.18694713\n",
      "   0.76861461   0.70000697]\n",
      "Scale:    [  4.71858649  14.02860851   7.08256814   0.386681     0.66415865\n",
      "   0.76366272  17.56066798  19.13867373  18.57772904  16.90928405\n",
      "   9.05672474  17.38516813  19.74398414  11.6258712   14.57994476\n",
      "  16.90964655  14.43763941  20.35251596   9.05844031 261.89234656\n",
      "   0.42171814   0.5758562 ]\n",
      "Var:      [2.22650584e+01 1.96801857e+02 5.01627715e+01 1.49522192e-01\n",
      " 4.41106708e-01 5.83180742e-01 3.08377060e+02 3.66288832e+02\n",
      " 3.45132016e+02 2.85923887e+02 8.20242629e+01 3.02244071e+02\n",
      " 3.89824910e+02 1.35160881e+02 2.12574789e+02 2.85936146e+02\n",
      " 2.08445432e+02 4.14224906e+02 8.20553409e+01 6.85876012e+04\n",
      " 1.77846190e-01 3.31610364e-01]\n",
      "N Samples: 14357\n"
     ]
    }
   ],
   "source": [
    "from sklearn.preprocessing import StandardScaler\n",
    "import joblib\n",
    "import pprint\n",
    "\n",
    "file_path = 'feature_scaler.pkl'\n",
    "scaler: StandardScaler = joblib.load(file_path)\n",
    "\n",
    "print(\"🔹 Scaler Parameters\")\n",
    "print(\"-\" * 40)\n",
    "print(f\"Mean:     {scaler.mean_}\")\n",
    "print(f\"Scale:    {scaler.scale_}\")\n",
    "print(f\"Var:      {scaler.var_}\")\n",
    "print(f\"N Samples: {scaler.n_samples_seen_}\")\n"
   ]
  }
 ],
 "metadata": {
  "kernelspec": {
   "display_name": "Python 3",
   "language": "python",
   "name": "python3"
  },
  "language_info": {
   "codemirror_mode": {
    "name": "ipython",
    "version": 3
   },
   "file_extension": ".py",
   "mimetype": "text/x-python",
   "name": "python",
   "nbconvert_exporter": "python",
   "pygments_lexer": "ipython3",
   "version": "3.12.5"
  }
 },
 "nbformat": 4,
 "nbformat_minor": 5
}
